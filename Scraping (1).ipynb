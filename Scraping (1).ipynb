{
 "cells": [
  {
   "cell_type": "code",
   "execution_count": 2,
   "metadata": {},
   "outputs": [],
   "source": [
    "from bs4 import BeautifulSoup\n",
    "from splinter import Browser\n",
    "import requests"
   ]
  },
  {
   "cell_type": "code",
   "execution_count": 8,
   "metadata": {},
   "outputs": [],
   "source": [
    "#Get mars newsite title and paragraph\n",
    "\n",
    "url = 'https://mars.nasa.gov/news/?page=0&per_page=40&order=publish_date+desc%2Ccreated_at+desc&search=&category=19%2C165%2C184%2C204&blank_scope=Latest'\n",
    "executable_path = {'executable_path': 'chromedriver.exe'}\n",
    "browser = Browser('chrome', **executable_path, headless=False)"
   ]
  },
  {
   "cell_type": "code",
   "execution_count": 9,
   "metadata": {},
   "outputs": [],
   "source": [
    "url = 'https://mars.nasa.gov/news/?page=0&per_page=40&order=publish_date+desc%2Ccreated_at+desc&search=&category=19%2C165%2C184%2C204&blank_scope=Latest'\n",
    "browser.visit(url)"
   ]
  },
  {
   "cell_type": "code",
   "execution_count": 10,
   "metadata": {},
   "outputs": [
    {
     "name": "stdout",
     "output_type": "stream",
     "text": [
      "NASA's Mars 2020 Gets a Dose of Space Here on Earth\n",
      "NASA's Mars 2020 spacecraft has completed tests that are the best Earthly approximations of what the spacecraft will endure during launch and interplanetary cruise.\n"
     ]
    }
   ],
   "source": [
    "print(browser.find_by_css('div.content_title')[0].text)\n",
    "print(browser.find_by_css('div.article_teaser_body')[0].text)"
   ]
  },
  {
   "cell_type": "code",
   "execution_count": 11,
   "metadata": {},
   "outputs": [],
   "source": [
    "news_title = \"NASA's Mars 2020 Gets a Dose of Space Here on Earth\"\n",
    "news_p = \"NASA's Mars 2020 spacecraft has completed tests that are the best Earthly approximations of what the spacecraft will endure during launch and interplanetary cruise.\""
   ]
  },
  {
   "cell_type": "code",
   "execution_count": 7,
   "metadata": {},
   "outputs": [],
   "source": [
    "#Get mars images \n",
    "\n",
    "url = 'https://www.jpl.nasa.gov/spaceimages/?search=&category=Mars'\n",
    "executable_path = {'executable_path': 'chromedriver.exe'}\n",
    "browser = Browser('chrome', **executable_path, headless=False)"
   ]
  },
  {
   "cell_type": "code",
   "execution_count": 15,
   "metadata": {},
   "outputs": [
    {
     "name": "stdout",
     "output_type": "stream",
     "text": [
      "[<splinter.driver.webdriver.WebDriverElement object at 0x000001FBBDB88D68>, <splinter.driver.webdriver.WebDriverElement object at 0x000001FBBDB88F98>, <splinter.driver.webdriver.WebDriverElement object at 0x000001FBBDB88978>, <splinter.driver.webdriver.WebDriverElement object at 0x000001FBBDB9EF60>, <splinter.driver.webdriver.WebDriverElement object at 0x000001FBBDB9EF98>, <splinter.driver.webdriver.WebDriverElement object at 0x000001FBBDB9EFD0>, <splinter.driver.webdriver.WebDriverElement object at 0x000001FBBDBA8048>, <splinter.driver.webdriver.WebDriverElement object at 0x000001FBBDBA8080>, <splinter.driver.webdriver.WebDriverElement object at 0x000001FBBDBA80B8>, <splinter.driver.webdriver.WebDriverElement object at 0x000001FBBDBA80F0>, <splinter.driver.webdriver.WebDriverElement object at 0x000001FBBDBA8128>, <splinter.driver.webdriver.WebDriverElement object at 0x000001FBBDBA8160>, <splinter.driver.webdriver.WebDriverElement object at 0x000001FBBDBA8198>, <splinter.driver.webdriver.WebDriverElement object at 0x000001FBBDBA81D0>, <splinter.driver.webdriver.WebDriverElement object at 0x000001FBBDBA8208>, <splinter.driver.webdriver.WebDriverElement object at 0x000001FBBDBA8240>, <splinter.driver.webdriver.WebDriverElement object at 0x000001FBBDBA8278>, <splinter.driver.webdriver.WebDriverElement object at 0x000001FBBDBA82B0>, <splinter.driver.webdriver.WebDriverElement object at 0x000001FBBDBA82E8>, <splinter.driver.webdriver.WebDriverElement object at 0x000001FBBDBA8320>, <splinter.driver.webdriver.WebDriverElement object at 0x000001FBBDBA8358>, <splinter.driver.webdriver.WebDriverElement object at 0x000001FBBDBA8390>, <splinter.driver.webdriver.WebDriverElement object at 0x000001FBBDBA83C8>, <splinter.driver.webdriver.WebDriverElement object at 0x000001FBBDBA8400>, <splinter.driver.webdriver.WebDriverElement object at 0x000001FBBDBA8438>, <splinter.driver.webdriver.WebDriverElement object at 0x000001FBBDBA8470>, <splinter.driver.webdriver.WebDriverElement object at 0x000001FBBDBA84A8>, <splinter.driver.webdriver.WebDriverElement object at 0x000001FBBDBA84E0>, <splinter.driver.webdriver.WebDriverElement object at 0x000001FBBDBA8518>, <splinter.driver.webdriver.WebDriverElement object at 0x000001FBBDBA8550>, <splinter.driver.webdriver.WebDriverElement object at 0x000001FBBDBA8588>, <splinter.driver.webdriver.WebDriverElement object at 0x000001FBBDBA85C0>, <splinter.driver.webdriver.WebDriverElement object at 0x000001FBBDBA85F8>, <splinter.driver.webdriver.WebDriverElement object at 0x000001FBBDBA8630>, <splinter.driver.webdriver.WebDriverElement object at 0x000001FBBDBA8668>, <splinter.driver.webdriver.WebDriverElement object at 0x000001FBBDBA86A0>, <splinter.driver.webdriver.WebDriverElement object at 0x000001FBBDBA86D8>, <splinter.driver.webdriver.WebDriverElement object at 0x000001FBBDBA8710>, <splinter.driver.webdriver.WebDriverElement object at 0x000001FBBDBA8748>, <splinter.driver.webdriver.WebDriverElement object at 0x000001FBBDBA8780>, <splinter.driver.webdriver.WebDriverElement object at 0x000001FBBDBA87B8>, <splinter.driver.webdriver.WebDriverElement object at 0x000001FBBDBA87F0>, <splinter.driver.webdriver.WebDriverElement object at 0x000001FBBDBA8828>, <splinter.driver.webdriver.WebDriverElement object at 0x000001FBBDBA8860>, <splinter.driver.webdriver.WebDriverElement object at 0x000001FBBDBA8898>, <splinter.driver.webdriver.WebDriverElement object at 0x000001FBBDBA88D0>, <splinter.driver.webdriver.WebDriverElement object at 0x000001FBBDBA8908>, <splinter.driver.webdriver.WebDriverElement object at 0x000001FBBDBA8940>, <splinter.driver.webdriver.WebDriverElement object at 0x000001FBBDBA8978>, <splinter.driver.webdriver.WebDriverElement object at 0x000001FBBDBA89B0>, <splinter.driver.webdriver.WebDriverElement object at 0x000001FBBDBA89E8>, <splinter.driver.webdriver.WebDriverElement object at 0x000001FBBDBA8A20>, <splinter.driver.webdriver.WebDriverElement object at 0x000001FBBDBA8A58>, <splinter.driver.webdriver.WebDriverElement object at 0x000001FBBDBA8A90>, <splinter.driver.webdriver.WebDriverElement object at 0x000001FBBDBA8AC8>, <splinter.driver.webdriver.WebDriverElement object at 0x000001FBBDBA8B00>, <splinter.driver.webdriver.WebDriverElement object at 0x000001FBBDBA8B38>, <splinter.driver.webdriver.WebDriverElement object at 0x000001FBBDBA8B70>, <splinter.driver.webdriver.WebDriverElement object at 0x000001FBBDBA8BA8>, <splinter.driver.webdriver.WebDriverElement object at 0x000001FBBDBA8BE0>, <splinter.driver.webdriver.WebDriverElement object at 0x000001FBBDBA8C18>, <splinter.driver.webdriver.WebDriverElement object at 0x000001FBBDBA8C50>, <splinter.driver.webdriver.WebDriverElement object at 0x000001FBBDBA8C88>, <splinter.driver.webdriver.WebDriverElement object at 0x000001FBBDBA8CC0>, <splinter.driver.webdriver.WebDriverElement object at 0x000001FBBDBA8CF8>, <splinter.driver.webdriver.WebDriverElement object at 0x000001FBBDBA8D30>, <splinter.driver.webdriver.WebDriverElement object at 0x000001FBBDBA8D68>, <splinter.driver.webdriver.WebDriverElement object at 0x000001FBBDBA8DA0>, <splinter.driver.webdriver.WebDriverElement object at 0x000001FBBDBA8DD8>, <splinter.driver.webdriver.WebDriverElement object at 0x000001FBBDBA8E10>, <splinter.driver.webdriver.WebDriverElement object at 0x000001FBBDBA8E48>, <splinter.driver.webdriver.WebDriverElement object at 0x000001FBBDBA8E80>, <splinter.driver.webdriver.WebDriverElement object at 0x000001FBBDBA8EB8>, <splinter.driver.webdriver.WebDriverElement object at 0x000001FBBDBA8EF0>]\n"
     ]
    }
   ],
   "source": [
    "url = 'https://www.jpl.nasa.gov/spaceimages/?search=&category=Mars'\n",
    "browser.visit(url)\n",
    "print(browser.find_by_css('img'))"
   ]
  },
  {
   "cell_type": "code",
   "execution_count": 12,
   "metadata": {},
   "outputs": [],
   "source": [
    "#Get mars weather from twitter \n",
    "\n",
    "url = 'https://twitter.com/marswxreport?lang=en'\n",
    "executable_path = {'executable_path': 'chromedriver.exe'}\n",
    "browser = Browser('chrome', **executable_path, headless=False)"
   ]
  },
  {
   "cell_type": "code",
   "execution_count": null,
   "metadata": {},
   "outputs": [],
   "source": [
    "url = 'https://twitter.com/marswxreport?lang=en'\n",
    "browser.visit(url)\n",
    "print(browser.find_by_css('p.TweetTextSize.TweetTextSize--normal.js-tweet-text.tweet-text')[0].text)"
   ]
  },
  {
   "cell_type": "code",
   "execution_count": null,
   "metadata": {},
   "outputs": [],
   "source": [
    "mars_weather = 'InSight sol 174 (2019-05-24) low -101.1ºC (-149.9ºF) high -21.3ºC (-6.4ºF) winds from the SW at 4.3 m/s (9.6 mph) gusting to 16.3 m/s (36.5 mph) pressure at 7.50 hPa'"
   ]
  },
  {
   "cell_type": "code",
   "execution_count": 4,
   "metadata": {},
   "outputs": [
    {
     "name": "stdout",
     "output_type": "stream",
     "text": [
      "[                      0                              1\n",
      "0  Equatorial Diameter:                       6,792 km\n",
      "1       Polar Diameter:                       6,752 km\n",
      "2                 Mass:  6.42 x 10^23 kg (10.7% Earth)\n",
      "3                Moons:            2 (Phobos & Deimos)\n",
      "4       Orbit Distance:       227,943,824 km (1.52 AU)\n",
      "5         Orbit Period:           687 days (1.9 years)\n",
      "6  Surface Temperature:                  -153 to 20 °C\n",
      "7         First Record:              2nd millennium BC\n",
      "8          Recorded By:           Egyptian astronomers]\n"
     ]
    }
   ],
   "source": [
    "#Get mars facts and store in pandas \n",
    "\n",
    "import pandas as pd\n",
    "\n",
    "source = requests.get('https://space-facts.com/mars/').text\n",
    "soup = BeautifulSoup(source, 'html.parser')\n",
    "tables = soup.find_all('table')\n",
    "table = pd.read_html(str(tables))\n",
    "print(table)"
   ]
  },
  {
   "cell_type": "code",
   "execution_count": null,
   "metadata": {},
   "outputs": [],
   "source": [
    "#Get mars hemispheres\n",
    "\n",
    "hemisphere_image_urls = [\n",
    "    {\"title\": \"Cerberus Hemisphere\", \"img_url\": \"https://astropedia.astrogeology.usgs.gov/download/Mars/Viking/cerberus_enhanced.tif/full.jpg\"},\n",
    "    {\"title\": \"Schiaparelli Hemisphere\", \"img_url\": \"https://astropedia.astrogeology.usgs.gov/download/Mars/Viking/schiaparelli_enhanced.tif/full.jpg\"}\n",
    "]"
   ]
  },
  {
   "cell_type": "code",
   "execution_count": 2,
   "metadata": {},
   "outputs": [],
   "source": [
    "#Store in MongoDB\n",
    "\n",
    "import pymongo\n",
    "conn = 'mongodb://localhost:27017'\n",
    "client = pymongo.MongoClient(conn)\n",
    "db = client.ScrapedData"
   ]
  },
  {
   "cell_type": "code",
   "execution_count": 3,
   "metadata": {},
   "outputs": [],
   "source": [
    "ScrapedData = db.destinations.find()"
   ]
  },
  {
   "cell_type": "code",
   "execution_count": 4,
   "metadata": {},
   "outputs": [
    {
     "data": {
      "text/plain": [
       "<pymongo.cursor.Cursor at 0x22552845518>"
      ]
     },
     "execution_count": 4,
     "metadata": {},
     "output_type": "execute_result"
    }
   ],
   "source": [
    "ScrapedData"
   ]
  },
  {
   "cell_type": "code",
   "execution_count": 5,
   "metadata": {},
   "outputs": [
    {
     "data": {
      "text/plain": [
       "[{'_id': ObjectId('5cec617f95f34b537b4cdb08'), 'continent': 'africa'},\n",
       " {'_id': ObjectId('5cec66362aa8b01a9f791ef7'),\n",
       "  'news_title': \"NASA's Mars 2020 Gets a Dose of Space Here on Earth\"},\n",
       " {'_id': ObjectId('5cec66622aa8b01a9f791ef8'), 'news_title': 'news_title'},\n",
       " {'_id': ObjectId('5cec66bc2aa8b01a9f791ef9'),\n",
       "  'news_title': \"NASA's Mars 2020 Gets a Dose of Space Here on Earth\"},\n",
       " {'_id': ObjectId('5cec671b2aa8b01a9f791efa'),\n",
       "  'news_title': \"NASA's Mars 2020 Gets a Dose of Space Here on Earth\"},\n",
       " {'_id': ObjectId('5cec674c2aa8b01a9f791efb'),\n",
       "  'news_title1': \"NASA's Mars 2020 Gets a Dose of Space Here on Earth\"},\n",
       " {'_id': ObjectId('5cec67e72aa8b01a9f791efc'),\n",
       "  'news_title1': \"NASA's Mars 2020 Gets a Dose of Space Here on Earth\",\n",
       "  'hemisphere_image_urls': [{'title': 'Cerberus Hemisphere',\n",
       "    'img_url': 'https://astropedia.astrogeology.usgs.gov/download/Mars/Viking/cerberus_enhanced.tif/full.jpg'},\n",
       "   {'title': 'Schiaparelli Hemisphere',\n",
       "    'img_url': 'https://astropedia.astrogeology.usgs.gov/download/Mars/Viking/schiaparelli_enhanced.tif/full.jpg'}]}]"
      ]
     },
     "execution_count": 5,
     "metadata": {},
     "output_type": "execute_result"
    }
   ],
   "source": [
    "list(ScrapedData)"
   ]
  },
  {
   "cell_type": "code",
   "execution_count": null,
   "metadata": {},
   "outputs": [],
   "source": [
    "#Store required variables in MongoDB\n",
    "db.destinations.insert_one({\"news_title1\": news_title, \"hemisphere_image_urls\": hemisphere_image_urls, \"table\": table})"
   ]
  },
  {
   "cell_type": "code",
   "execution_count": null,
   "metadata": {},
   "outputs": [],
   "source": [
    "#Flask application\n",
    "\n",
    "from flask import Flask, render_template\n",
    "import pymongo\n",
    "app = Flask(__name__)\n",
    "conn = 'mongodb://localhost:27017'\n",
    "client = pymongo.MongoClient(conn)\n",
    "\n",
    "@app.route('/')\n",
    "def index(): \n",
    "    mars = list(db.destinations.find())\n",
    "    print(mars)\n",
    "\n",
    "    return render_template('index.html', mars=mars)\n",
    "\n",
    "if __name__ == '__main__':\n",
    "    app.run()"
   ]
  },
  {
   "cell_type": "code",
   "execution_count": null,
   "metadata": {},
   "outputs": [],
   "source": []
  }
 ],
 "metadata": {
  "kernelspec": {
   "display_name": "Python 3",
   "language": "python",
   "name": "python3"
  },
  "language_info": {
   "codemirror_mode": {
    "name": "ipython",
    "version": 3
   },
   "file_extension": ".py",
   "mimetype": "text/x-python",
   "name": "python",
   "nbconvert_exporter": "python",
   "pygments_lexer": "ipython3",
   "version": "3.6.7"
  }
 },
 "nbformat": 4,
 "nbformat_minor": 2
}
